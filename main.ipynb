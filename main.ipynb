{
 "cells": [
  {
   "cell_type": "code",
   "execution_count": 1,
   "metadata": {},
   "outputs": [],
   "source": [
    "# import libraries\n",
    "import cv2\n"
   ]
  },
  {
   "cell_type": "markdown",
   "metadata": {},
   "source": [
    "## test of normalizing an image (preprocessing)"
   ]
  },
  {
   "cell_type": "code",
   "execution_count": 2,
   "metadata": {},
   "outputs": [
    {
     "name": "stdout",
     "output_type": "stream",
     "text": [
      "[[[38 38 38]\n",
      "  [40 40 40]\n",
      "  [44 44 44]\n",
      "  ...\n",
      "  [89 89 89]\n",
      "  [91 91 91]\n",
      "  [90 90 90]]\n",
      "\n",
      " [[36 36 36]\n",
      "  [40 40 40]\n",
      "  [45 45 45]\n",
      "  ...\n",
      "  [92 92 92]\n",
      "  [89 89 89]\n",
      "  [90 90 90]]\n",
      "\n",
      " [[36 36 36]\n",
      "  [41 41 41]\n",
      "  [44 44 44]\n",
      "  ...\n",
      "  [91 91 91]\n",
      "  [91 91 91]\n",
      "  [90 90 90]]\n",
      "\n",
      " ...\n",
      "\n",
      " [[48 48 48]\n",
      "  [49 49 49]\n",
      "  [53 53 53]\n",
      "  ...\n",
      "  [71 71 71]\n",
      "  [71 71 71]\n",
      "  [74 74 74]]\n",
      "\n",
      " [[49 49 49]\n",
      "  [49 49 49]\n",
      "  [53 53 53]\n",
      "  ...\n",
      "  [69 69 69]\n",
      "  [71 71 71]\n",
      "  [72 72 72]]\n",
      "\n",
      " [[48 48 48]\n",
      "  [51 51 51]\n",
      "  [51 51 51]\n",
      "  ...\n",
      "  [71 71 71]\n",
      "  [69 69 69]\n",
      "  [71 71 71]]]\n"
     ]
    }
   ],
   "source": [
    "# test on normalizing the image\n",
    "img_before_norm = cv2.imread('./drowsiness-dataset/train/Open_Eyes/s0001_02334_0_0_1_0_0_01.png')\n",
    "print(img_before_norm)"
   ]
  },
  {
   "cell_type": "code",
   "execution_count": 3,
   "metadata": {},
   "outputs": [
    {
     "name": "stdout",
     "output_type": "stream",
     "text": [
      "<class 'numpy.ndarray'>\n"
     ]
    }
   ],
   "source": [
    "# normalizing image\n",
    "img_normalized = cv2.normalize(img_before_norm, None, 0, 1, cv2.NORM_MINMAX, cv2.CV_32F)\n",
    "print(type(img_normalized))"
   ]
  },
  {
   "cell_type": "code",
   "execution_count": null,
   "metadata": {},
   "outputs": [],
   "source": []
  },
  {
   "cell_type": "markdown",
   "metadata": {},
   "source": [
    " ## loop through images and normalize them all"
   ]
  },
  {
   "cell_type": "code",
   "execution_count": 4,
   "metadata": {},
   "outputs": [],
   "source": [
    "import os\n",
    "# how do i go through and normalize all the images in the dataset?\n"
   ]
  }
 ],
 "metadata": {
  "kernelspec": {
   "display_name": "tf_gpu",
   "language": "python",
   "name": "python3"
  },
  "language_info": {
   "codemirror_mode": {
    "name": "ipython",
    "version": 3
   },
   "file_extension": ".py",
   "mimetype": "text/x-python",
   "name": "python",
   "nbconvert_exporter": "python",
   "pygments_lexer": "ipython3",
   "version": "3.9.16"
  },
  "orig_nbformat": 4
 },
 "nbformat": 4,
 "nbformat_minor": 2
}
