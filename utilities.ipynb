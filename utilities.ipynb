{
 "cells": [
  {
   "cell_type": "markdown",
   "metadata": {},
   "source": [
    "# Utility to transfer normalize all files and split between training and testing data"
   ]
  },
  {
   "cell_type": "code",
   "execution_count": 1,
   "metadata": {},
   "outputs": [],
   "source": [
    "# import dependencies for utilities\n",
    "import os\n",
    "import cv2\n",
    "from matplotlib import pyplot as plt\n"
   ]
  },
  {
   "cell_type": "code",
   "execution_count": 2,
   "metadata": {},
   "outputs": [
    {
     "name": "stdout",
     "output_type": "stream",
     "text": [
      "/home/heyitsjearbear/projects/drowsiness-detection\n"
     ]
    }
   ],
   "source": [
    "cwd = os.getcwd()\n",
    "os.path.exists(cwd)\n",
    "print(cwd)"
   ]
  },
  {
   "cell_type": "code",
   "execution_count": 3,
   "metadata": {},
   "outputs": [],
   "source": [
    "# for laptop\n",
    "# closed_norm_path = '/home/heyitsjearbear/drowsiness-detection/drowsiness-dataset/train/normalized_images/norm_closed'\n",
    "# for desktop\n",
    "closed_norm_path = '/home/heyitsjearbear/projects/drowsiness-detection/drowsiness-dataset/train/normalized_images/norm_closed'"
   ]
  },
  {
   "cell_type": "markdown",
   "metadata": {},
   "source": [
    "# Code to normalize closed_eyes images"
   ]
  },
  {
   "cell_type": "code",
   "execution_count": 4,
   "metadata": {},
   "outputs": [
    {
     "name": "stderr",
     "output_type": "stream",
     "text": [
      "Clipping input data to the valid range for imshow with RGB data ([0..1] for floats or [0..255] for integers).\n"
     ]
    },
    {
     "name": "stdout",
     "output_type": "stream",
     "text": [
      "/home/heyitsjearbear/projects/drowsiness-detection\n",
      "/home/heyitsjearbear/projects/drowsiness-detection/drowsiness-dataset/train/Closed_Eyes/s0001_00410_0_0_0_0_1_01.png\n",
      "[[[0.41269842 0.41269842 0.41269842]\n",
      "  [0.42857146 0.42857146 0.42857146]\n",
      "  [0.44444448 0.44444448 0.44444448]\n",
      "  ...\n",
      "  [0.8095238  0.8095238  0.8095238 ]\n",
      "  [0.7936508  0.7936508  0.7936508 ]\n",
      "  [0.8095238  0.8095238  0.8095238 ]]\n",
      "\n",
      " [[0.3809524  0.3809524  0.3809524 ]\n",
      "  [0.3968254  0.3968254  0.3968254 ]\n",
      "  [0.3809524  0.3809524  0.3809524 ]\n",
      "  ...\n",
      "  [0.7619048  0.7619048  0.7619048 ]\n",
      "  [0.7936508  0.7936508  0.7936508 ]\n",
      "  [0.8095238  0.8095238  0.8095238 ]]\n",
      "\n",
      " [[0.3968254  0.3968254  0.3968254 ]\n",
      "  [0.3968254  0.3968254  0.3968254 ]\n",
      "  [0.3809524  0.3809524  0.3809524 ]\n",
      "  ...\n",
      "  [0.7936508  0.7936508  0.7936508 ]\n",
      "  [0.7777778  0.7777778  0.7777778 ]\n",
      "  [0.7936508  0.7936508  0.7936508 ]]\n",
      "\n",
      " ...\n",
      "\n",
      " [[0.6666667  0.6666667  0.6666667 ]\n",
      "  [0.6507937  0.6507937  0.6507937 ]\n",
      "  [0.6507937  0.6507937  0.6507937 ]\n",
      "  ...\n",
      "  [0.6666667  0.6666667  0.6666667 ]\n",
      "  [0.6666667  0.6666667  0.6666667 ]\n",
      "  [0.6666667  0.6666667  0.6666667 ]]\n",
      "\n",
      " [[0.6507937  0.6507937  0.6507937 ]\n",
      "  [0.6507937  0.6507937  0.6507937 ]\n",
      "  [0.6507937  0.6507937  0.6507937 ]\n",
      "  ...\n",
      "  [0.71428573 0.71428573 0.71428573]\n",
      "  [0.6825397  0.6825397  0.6825397 ]\n",
      "  [0.6666667  0.6666667  0.6666667 ]]\n",
      "\n",
      " [[0.63492066 0.63492066 0.63492066]\n",
      "  [0.6507937  0.6507937  0.6507937 ]\n",
      "  [0.6666667  0.6666667  0.6666667 ]\n",
      "  ...\n",
      "  [0.71428573 0.71428573 0.71428573]\n",
      "  [0.6825397  0.6825397  0.6825397 ]\n",
      "  [0.6666667  0.6666667  0.6666667 ]]]\n"
     ]
    },
    {
     "data": {
      "image/png": "[encoded data removed]",
      "text/plain": [
       "<Figure size 640x480 with 1 Axes>"
      ]
     },
     "metadata": {},
     "output_type": "display_data"
    }
   ],
   "source": [
    "# get directory path for dataset\n",
    "cwd = os.getcwd()\n",
    "print(cwd)\n",
    "# loop through one of the file directories and see if file names are correctly being printed\n",
    "file_counter = 0\n",
    "for image_path in os.listdir(cwd+'/drowsiness-dataset/train/Closed_Eyes/'):\n",
    "    if file_counter == 1:\n",
    "        break\n",
    "    input_path = os.path.join(cwd+'/drowsiness-dataset/train/Closed_Eyes/', image_path)\n",
    "    print(input_path)\n",
    "    image = cv2.imread(input_path)\n",
    "    image_normalized =  cv2.normalize(image , None, 0, 1, cv2.NORM_MINMAX, cv2.CV_32F)\n",
    "    print(image_normalized)\n",
    "    plt.imshow(image_normalized)\n",
    "    plt.show()\n",
    "    os.chdir(closed_norm_path)\n",
    "    file_name = 'norm_closed_' + str(file_counter) + '.png'\n",
    "    cv2.imwrite(file_name, image_normalized)\n",
    "    os.chdir(cwd)\n",
    "    file_counter += 1\n",
    "    \n",
    "   \n"
   ]
  },
  {
   "cell_type": "markdown",
   "metadata": {},
   "source": [
    "# TODO WRITE FUNCTION TO STORE IN NUMPY ARRAYS/SPLIT TRAINING DATA"
   ]
  },
  {
   "cell_type": "code",
   "execution_count": null,
   "metadata": {},
   "outputs": [],
   "source": [
    "# TODO inputs will be file path to folder, then output will be normalized images in a a numpy array, we will split data into train and test sets later"
   ]
  }
 ],
 "metadata": {
  "kernelspec": {
   "display_name": "tf_gpu",
   "language": "python",
   "name": "python3"
  },
  "language_info": {
   "codemirror_mode": {
    "name": "ipython",
    "version": 3
   },
   "file_extension": ".py",
   "mimetype": "text/x-python",
   "name": "python",
   "nbconvert_exporter": "python",
   "pygments_lexer": "ipython3",
   "version": "3.9.18"
  },
  "orig_nbformat": 4
 },
 "nbformat": 4,
 "nbformat_minor": 2
}
